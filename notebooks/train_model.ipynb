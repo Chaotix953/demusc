{
 "cells": [
  {
   "cell_type": "code",
   "execution_count": 2,
   "id": "df8ac5a8",
   "metadata": {},
   "outputs": [],
   "source": [
    "import torch\n",
    "from torch.utils.data import Dataset\n",
    "\n",
    "class SpectrogramDataset(Dataset):\n",
    "    def __init__(self, X, y):\n",
    "        \"\"\"\n",
    "        Args:\n",
    "            X (np.ndarray): mixture spectrograms, shape (B, 128, 800)\n",
    "            y (np.ndarray): source spectrograms, shape (B, 4, 128, 800)\n",
    "        \"\"\"\n",
    "        self.X = torch.tensor(X, dtype=torch.float32)\n",
    "        self.y = torch.tensor(y, dtype=torch.float32)\n",
    "\n",
    "    def __len__(self):\n",
    "        return len(self.X)\n",
    "\n",
    "    def __getitem__(self, idx):\n",
    "        return self.X[idx], self.y[idx]\n"
   ]
  },
  {
   "cell_type": "code",
   "execution_count": null,
   "id": "352f4736",
   "metadata": {},
   "outputs": [],
   "source": [
    "from torch.utils.data import DataLoader\n",
    "import numpy as np\n",
    "\n",
    "X_train = np.load('../data/processed/X_train.npy')\n",
    "y_train = np.load('../data/processed/y_train.npy')\n",
    "X_test = np.load('../data/processed/X_test.npy')\n",
    "y_test = np.load('../data/processed/y_test.npy')\n",
    "\n",
    "# Charger ton dataset\n",
    "train_dataset = SpectrogramDataset(X_train, y_train)\n",
    "test_dataset = SpectrogramDataset(X_test, y_test)\n",
    "\n",
    "# Créer les DataLoaders\n",
    "train_loader = DataLoader(train_dataset, batch_size=8, shuffle=True)\n",
    "test_loader = DataLoader(test_dataset, batch_size=8, shuffle=True)\n"
   ]
  },
  {
   "cell_type": "code",
   "execution_count": 4,
   "id": "ca435cdf",
   "metadata": {},
   "outputs": [],
   "source": [
    "class SI_SDR_Loss(nn.Module):\n",
    "    def __init__(self, eps=1e-8):\n",
    "        super().__init__()\n",
    "        self.eps = eps\n",
    "\n",
    "    def forward(self, predictions, targets):\n",
    "        \"\"\"\n",
    "        Args:\n",
    "            predictions: tensor of shape [B, S, F, T] (batch, sources, freq_bins, time)\n",
    "            targets: tensor of shape [B, S, F, T]\n",
    "        Returns:\n",
    "            SI-SDR loss (negative SI-SDR for minimization)\n",
    "        \"\"\"\n",
    "        # Reshape to [B*S, F*T]\n",
    "        B, S, F, T = predictions.shape\n",
    "        predictions = predictions.reshape(B*S, -1)\n",
    "        targets = targets.reshape(B*S, -1)\n",
    "\n",
    "        # Zero-mean normalization\n",
    "        predictions = predictions - torch.mean(predictions, dim=-1, keepdim=True)\n",
    "        targets = targets - torch.mean(targets, dim=-1, keepdim=True)\n",
    "\n",
    "        # Calculate SI-SDR\n",
    "        alpha = (torch.sum(predictions * targets, dim=-1, keepdim=True) + self.eps) / (\n",
    "            torch.sum(targets ** 2, dim=-1, keepdim=True) + self.eps)\n",
    "        scaled_target = alpha * targets\n",
    "\n",
    "        si_sdr = torch.sum(scaled_target ** 2, dim=-1) / (\n",
    "            torch.sum((predictions - scaled_target) ** 2, dim=-1) + self.eps)\n",
    "        si_sdr = 10 * torch.log10(si_sdr + self.eps)\n",
    "\n",
    "        # Return negative mean for loss minimization\n",
    "        return -si_sdr.mean()"
   ]
  },
  {
   "cell_type": "code",
   "execution_count": null,
   "id": "c204414c",
   "metadata": {},
   "outputs": [
    {
     "name": "stderr",
     "output_type": "stream",
     "text": [
      "Epoch 1/16:   0%|                                                                            | 0/100 [00:00<?, ?batch/s]"
     ]
    }
   ],
   "source": [
    "model = SpectrogramSeparator().to('cuda')\n",
    "criterion = SI_SDR_Loss().to('cuda')\n",
    "optimizer = torch.optim.Adam(model.parameters(), lr=1e-5)\n",
    "\n",
    "num_epochs = 16\n",
    "best_loss = float('inf')\n",
    "\n",
    "for epoch in range(num_epochs):\n",
    "    model.train()\n",
    "    epoch_loss = 0.0\n",
    "    \n",
    "    pbar = tqdm(train_loader, desc=f\"Epoch {epoch+1}/{num_epochs}\", unit=\"batch\")\n",
    "    \n",
    "    for X_batch, y_batch in pbar:\n",
    "        X_batch = X_batch.to(torch.float32).to('cuda')\n",
    "        y_batch = y_batch.to(torch.float32).to('cuda')\n",
    "        \n",
    "        optimizer.zero_grad()\n",
    "        output = model.forward(X_batch)\n",
    "        loss = criterion(output, y_batch)\n",
    "        loss.backward()\n",
    "        optimizer.step()\n",
    "        \n",
    "        epoch_loss += loss.item()\n",
    "        pbar.set_postfix({\"SI-SDR Loss\": f\"{loss.item():.4f}\"})\n",
    "    \n",
    "    avg_loss = epoch_loss / len(train_loader)\n",
    "\n",
    "    # Save best model\n",
    "    if avg_loss < best_loss:\n",
    "        best_loss = avg_loss\n",
    "        torch.save({\n",
    "            'model_state_dict': model.state_dict(),\n",
    "            'optimizer_state_dict': optimizer.state_dict(),\n",
    "        }, '../results/models/model.pth')"
   ]
  },
  {
   "cell_type": "code",
   "execution_count": null,
   "id": "d159d466",
   "metadata": {},
   "outputs": [],
   "source": []
  }
 ],
 "metadata": {
  "kernelspec": {
   "display_name": "venv",
   "language": "python",
   "name": "python3"
  },
  "language_info": {
   "codemirror_mode": {
    "name": "ipython",
    "version": 3
   },
   "file_extension": ".py",
   "mimetype": "text/x-python",
   "name": "python",
   "nbconvert_exporter": "python",
   "pygments_lexer": "ipython3",
   "version": "3.12.3"
  }
 },
 "nbformat": 4,
 "nbformat_minor": 5
}
